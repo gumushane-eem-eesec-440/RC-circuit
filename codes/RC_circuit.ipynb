{
  "nbformat": 4,
  "nbformat_minor": 0,
  "metadata": {
    "colab": {
      "name": "RC_circuit.ipynb",
      "provenance": [],
      "include_colab_link": true
    },
    "kernelspec": {
      "name": "python3",
      "display_name": "Python 3"
    },
    "language_info": {
      "name": "python"
    }
  },
  "cells": [
    {
      "cell_type": "markdown",
      "metadata": {
        "id": "view-in-github",
        "colab_type": "text"
      },
      "source": [
        "<a href=\"https://colab.research.google.com/github/gumushane-eem-eesec-440/RC-circuit/blob/main/codes/RC_circuit.ipynb\" target=\"_parent\"><img src=\"https://colab.research.google.com/assets/colab-badge.svg\" alt=\"Open In Colab\"/></a>"
      ]
    },
    {
      "cell_type": "markdown",
      "metadata": {
        "id": "7wuaHAG9wO9R"
      },
      "source": [
        "We will analyze resistor-capacitor (RC) circuits in this page."
      ]
    },
    {
      "cell_type": "code",
      "metadata": {
        "id": "52Vm9NLiuF4S"
      },
      "source": [
        "import numpy as np\n",
        "import matplotlib.pyplot as plt\n",
        "from google.colab import files"
      ],
      "execution_count": null,
      "outputs": []
    },
    {
      "cell_type": "markdown",
      "metadata": {
        "id": "bAAwy6zCyBoI"
      },
      "source": [
        "Kapasitörün matematiksel modeli\n",
        "\n",
        "\\begin{equation}\n",
        "i_C(t) = C\\frac{dV_C(t)}{dt}\n",
        "\\end{equation}\n",
        "\n",
        "olarak verilmişti. Bu birinci dereceden adi diferansiyel denklemde eşitliğin her iki tarafının $k=t_0$ anından $k=t$ anına kadar integralini alırsak aşağıdaki çözümü elde ederiz.\n",
        "\n",
        "\\begin{equation}\n",
        "V_C(t) = V_C(t_0) + \\frac{1}{C} \\int_{t_0}^{t} i_C(k)dk\n",
        "\\end{equation}\n",
        "\n",
        "Buradaki $k$ isimli kukla değişkene (**dummy variable**) derslerimizde $\\tau$ demiştik. Aşağıda zaman sabiti (**time constant**) kavramı karşımıza çıktığında zaman sabitine $\\tau$ diyeceğimizden, bundan sonra karışıklık olmasın diye integral alırken zamanı temsil eden yatay ekseni $k$ notasyonu ile göstereceğiz.\n",
        "\n",
        "Şimdi, *Şekil 1*'de gördüğümüz üzere bir güç kaynağı, bir rezistör ve bir kapasitörden oluşan RC devresinin basamak cevabını$^{1}$ analiz edelim.\n",
        "\n",
        "<img src=\"https://drive.google.com/uc?export=view&id=1Tfbp2MS9zXmIg9ND0nssQwn7w5kWTo3E\" alt=\"RC devresi.\" height=\"400\"/>\n",
        "\n",
        "*Şekil 1:* RC devresi.\n",
        "\n",
        "Devrede ok yönünde dolaşıp Kirchoff'un Gerilimler Yasasını (KGY) uygularsak elde edeceğimiz denklem aşağıdaki gibi olur.\n",
        "\n",
        "\\begin{equation}\n",
        "-V_{cc} + Ri(t) + V_C(t) = 0\n",
        "\\end{equation}\n",
        "\n",
        "Devremizde kapasitörün üzerinden geçen akım $i_C(t)$ devrede dolaşan akım $i(t)$'ye eşit (i.e., $i_C(t) = i(t)$). Bunu göz önünde bulundurarak yukarıda elde ettiğimiz ilk denklem olan kapasitörün matematiksel modelini KGY ile elde ettiğimiz denklemde yerine koyacak olursak\n",
        "\n",
        "\\begin{equation}\n",
        "-V_{cc} + RC\\frac{dV_C(t)}{dt} + V_C(t) = 0\n",
        "\\end{equation}\n",
        "\n",
        "birinci dereceden adi diferansiyel denklemini elde ederiz. Bu denklemi düzenlersek\n",
        "\n",
        "\\begin{equation}\n",
        "\\frac{dV_C(t)}{dt} = -\\frac{1}{RC}(V_C(t)- V_{cc})\n",
        "\\end{equation}\n",
        "\n",
        "haline gelir. Biraz daha manipüle edersek\n",
        "\n",
        "\\begin{equation}\n",
        "\\frac{dV_C(t)}{V_C(t)- V_{cc}} = -\\frac{1}{RC}dt\n",
        "\\end{equation}\n",
        "\n",
        "denklemini elde ederiz. Eşitliğin her iki tarafının integralini $k=t_0$'dan $k=t$ anına kadar alalım.\n",
        "\n",
        "\\begin{equation}\n",
        "\\int_{k=t_0}^{k=t}\\frac{dV_C(k)}{V_C(k)- V_{cc}} = -\\frac{1}{RC}\\int_{k=t_0}^{k=t}dk\n",
        "\\end{equation}\n",
        "\n",
        "Dikkat edilirse soldaki ifade doğal logaritma ile alakalı bir integral. İntegralleri alarak ilerleyecek olursak\n",
        "\n",
        "\\begin{equation}\n",
        "\\ln(V_C(k)- V_{cc})\\Big|_{k=t_0}^{k=t} = -\\frac{1}{RC}k\\Bigg|_{k=t_0}^{k=t}\n",
        "\\end{equation}\n",
        "\n",
        "\\begin{equation}\n",
        "\\ln(V_C(t)- V_{cc}) - \\ln(V_C(t_0)- V_{cc}) = -\\frac{1}{RC}(t-t_0)\n",
        "\\end{equation}\n",
        "\n",
        "soldaki doğal logaritma içeren ifadelerle yapılan çıkarma işlemi, aşağıdaki halini alırken\n",
        "\n",
        "\\begin{equation}\n",
        "\\ln\\Bigg(\\frac{V_C(t)- V_{cc}}{V_C(t_0)- V_{cc}}\\Bigg) = -\\frac{t-t_0}{RC}\n",
        "\\end{equation}\n",
        "\n",
        "her iki tarafı $e \\approx 2.71$'in üssü olarak yazarsak (birşey değişmeyeği gibi sol taraftaki doğal logaritma $\\ln$ ifadesinden kurtulmuş olacağız)\n",
        "\n",
        "\\begin{equation}\n",
        "\\frac{V_C(t)- V_{cc}}{V_C(t_0)- V_{cc}} = e^{\\textstyle -\\frac{t-t_0}{RC}}\n",
        "\\end{equation}\n",
        "\n",
        "en sonunda aşağıdaki çözümü elde ederiz.\n",
        "\n",
        "\\begin{equation}\n",
        "V_C(t) = V_{cc} + V_C(t_0)e^{\\textstyle-\\frac{t-t_0}{RC}} - V_{cc}e^{\\textstyle-\\frac{t-t_0}{RC}}\n",
        "\\end{equation}\n",
        "\n",
        "Genelde $t_0 = 0$ olarak kabul ettiğimizden elde ettiğimiz çözüm aşağıdaki son halini alırken\n",
        "\n",
        "\\begin{equation}\n",
        "V_C(t) = V_{cc} + V_C(0)e^{\\textstyle-\\frac{t}{RC}} - V_{cc}e^{\\textstyle-\\frac{t}{RC}}\n",
        "\\end{equation}\n",
        "\n",
        "Aşağıda grafiğini çizdireceğimiz kapasitörün üzerindeki voltajın matematiksel ifadesi olan bu ifade hakkında hemen kabaca (yani ekstrem değerlere bakarak) düşünecek olursak $t = 0$ anında $V_C(0) = V_C(0)$ ve $t \\rightarrow \\infty$ durumunda $V_C(\\infty) = V_{cc}$ olduğunu görebiliriz. Ayrıca zaman sabitimiz olan $\\tau = RC$ arttıkça $V_C(t)$'nin $V_{cc}$'ye ulaşması yavaşlarken $\\tau$ azalırken $V_C(t)$'nin $V_{cc}$'ye ulaşması hızlanır.\n",
        "\n",
        "Şimdi elde ettiğimiz çözümün değişik R ve C değerlerine göre grafiklerini çizdirelim ve zaman sabitinin kapasitörün voltajına olan etkisini görelim."
      ]
    },
    {
      "cell_type": "code",
      "metadata": {
        "id": "BvbrerVBLMT7",
        "colab": {
          "base_uri": "https://localhost:8080/",
          "height": 295
        },
        "outputId": "d163092a-adc3-486c-9603-17b8989100c5"
      },
      "source": [
        "Vcc = 5.0\n",
        "Vc0 = 0.0\n",
        "R1 = 10000\n",
        "C1 = 0.00001\n",
        "R2 = 20000\n",
        "C2 = C1\n",
        "R3 = 3e4\n",
        "C3 = C1\n",
        "t = np.arange(0.0, 2.0, 0.01)\n",
        "Vc1 = Vcc + Vc0*np.exp(-t/(R1*C1)) - Vcc*np.exp(-t/(R1*C1))\n",
        "Vc2 = Vcc + Vc0*np.exp(-t/(R2*C2)) - Vcc*np.exp(-t/(R2*C2))\n",
        "Vc3 = Vcc + Vc0*np.exp(-t/(R3*C3)) - Vcc*np.exp(-t/(R3*C3))\n",
        "fig, ax = plt.subplots()\n",
        "ax.plot(t, Vc1, 'k', label='R=10k C=10$\\mu$F $\\\\rightarrow$ $\\\\tau$ = RC = 0.1')\n",
        "ax.plot(t, Vc2, 'r', label='R=20k C=10$\\mu$F $\\\\rightarrow$ $\\\\tau$ = RC = 0.2')\n",
        "ax.plot(t, Vc3, 'b', label='R=30k C=10$\\mu$F $\\\\rightarrow$ $\\\\tau$ = RC = 0.3')\n",
        "ax.set(xlabel='time (s)', ylabel='$V_C$ (Volt)',\n",
        "       title='step response of RC circuit')\n",
        "ax.grid()\n",
        "legend = ax.legend(loc='lower right')\n",
        "#plt.show()\n",
        "#fig.savefig(\"RC devresi zorlanmış cevap.png\")\n",
        "#files.download(\"RC devresi zorlanmış cevap.png\")"
      ],
      "execution_count": null,
      "outputs": [
        {
          "output_type": "display_data",
          "data": {
            "image/png": "[encoded data removed]",
            "text/plain": [
              "<Figure size 432x288 with 1 Axes>"
            ]
          },
          "metadata": {
            "tags": [],
            "needs_background": "light"
          }
        }
      ]
    },
    {
      "cell_type": "markdown",
      "metadata": {
        "id": "BJvh8CDxP5YY"
      },
      "source": [
        "# Dipnotlar\n",
        "$^1$ İng. Step response. Basamak cevabı [1]'de geçen bir kavramdır. Aynı kaynağı referans kullanan [2], bu cevabı zorlanmış cevap diye isimlendirerek yaklaşımı daha genelleştirmiştir (i.e., güç kaynağından devreye etki eden sinyalin sadece sabit bir DC gerilim olma şartı yok). Biz burada [1]'de geçen haliyle kullanmayı uygun gördük. "
      ]
    },
    {
      "cell_type": "markdown",
      "metadata": {
        "id": "_-8z7OqfREqx"
      },
      "source": [
        "# Referanslar\n",
        "[1] J. W. Nilsson, S. A. Riedel, *Electric Circuits*, 10. Baskı, Prentice Hall, Upper Saddle River, New Jersey, 2014.\n",
        "\n",
        "[2] M. Ö. Efe, *Devre Analizi-I*, 3. Baskı, Seçkin Yayıncılık, Ankara, 2016."
      ]
    }
  ]
}